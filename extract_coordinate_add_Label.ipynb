{
  "nbformat": 4,
  "nbformat_minor": 0,
  "metadata": {
    "colab": {
      "provenance": []
    },
    "kernelspec": {
      "name": "python3",
      "display_name": "Python 3"
    },
    "language_info": {
      "name": "python"
    }
  },
  "cells": [
    {
      "cell_type": "code",
      "execution_count": 2,
      "metadata": {
        "id": "NjoPDNi4sLKI"
      },
      "outputs": [],
      "source": [
        "import csv"
      ]
    },
    {
      "cell_type": "markdown",
      "source": [
        "**Label**\n",
        "\n",
        "\n",
        "slang: 0\n",
        "\n",
        "answer: 1"
      ],
      "metadata": {
        "id": "Q6kOa9_rssiX"
      }
    },
    {
      "cell_type": "code",
      "source": [
        "with open('/content/drive/MyDrive/AI 명예학회 2기/Detect-Slang/Data/slang.csv', 'r', newline='') as infile:\n",
        "    reader = csv.reader(infile)\n",
        "    rows = list(reader)"
      ],
      "metadata": {
        "id": "IaTTcHCFsUuT"
      },
      "execution_count": 13,
      "outputs": []
    },
    {
      "cell_type": "code",
      "source": [
        "with open('slang_add_label1.csv', 'w', newline='') as outfile: # label 추가 csv 파일명 지정.\n",
        "    writer = csv.writer(outfile)\n",
        "    rows[0].append('Label')\n",
        "    writer.writerow(rows[0])\n",
        "\n",
        "    for row in rows[1:]:\n",
        "        row.append('0') # 라벨값 지정\n",
        "        writer.writerow(row)"
      ],
      "metadata": {
        "id": "I3-w9F4xtxkb"
      },
      "execution_count": 14,
      "outputs": []
    },
    {
      "cell_type": "code",
      "source": [],
      "metadata": {
        "id": "LO7_tdirub0q"
      },
      "execution_count": null,
      "outputs": []
    }
  ]
}